{
  "nbformat": 4,
  "nbformat_minor": 0,
  "metadata": {
    "colab": {
      "provenance": []
    },
    "kernelspec": {
      "name": "python3",
      "display_name": "Python 3"
    },
    "language_info": {
      "name": "python"
    }
  },
  "cells": [
    {
      "cell_type": "markdown",
      "source": [
        "**Data Toolkit**"
      ],
      "metadata": {
        "id": "Zxhmc9xxTdDX"
      }
    },
    {
      "cell_type": "markdown",
      "source": [
        "1. What is NumPy, and why is it widely used in Python?\n",
        " - NumPy, short for Numerical Python, is a fundamental library in Python widely used for numerical and scientific computing. It provides support for multi-dimensional arrays and matrices, along with a vast collection of mathematical functions to operate on them efficiently. What makes NumPy particularly powerful is its ability to perform operations on entire arrays at once (vectorization), which not only simplifies code but also significantly boosts performance compared to traditional Python loops. Features like broadcasting, which allows operations on arrays of different shapes, further add to its flexibility. NumPy is also memory efficient and integrates seamlessly with other libraries such as Pandas, SciPy, and machine learning frameworks like TensorFlow and PyTorch. Due to its speed, ease of use, and broad functionality, it has become a cornerstone in the fields of data analysis, machine learning, and scientific research in Python.\n"
      ],
      "metadata": {
        "id": "0_WWqz83ThBY"
      }
    },
    {
      "cell_type": "markdown",
      "source": [
        "2.  How does broadcasting work in NumPy?\n",
        " - Broadcasting in NumPy is a technique that allows arrays with different shapes to be used together in arithmetic operations without the need for explicit reshaping or copying of data. When two arrays of differing shapes are operated on, NumPy compares their shapes starting from the last dimension and applies broadcasting rules: dimensions are compatible if they are equal or if one of them is 1. If they are compatible, NumPy automatically stretches the smaller array across the larger one so that element-wise operations can proceed as if the shapes matched. This happens behind the scenes and is highly memory-efficient, as no actual data duplication occurs. Broadcasting simplifies code and enhances performance, especially when working with large datasets, making it an essential feature in data analysis and scientific computing."
      ],
      "metadata": {
        "id": "-0duwTu_Tyv_"
      }
    },
    {
      "cell_type": "markdown",
      "source": [
        "3. What is a Pandas DataFrame?\n",
        " - A **Pandas DataFrame** is a two-dimensional, labeled data structure in Python, similar to a table in a database, an Excel spreadsheet, or a data frame in R. It is part of the Pandas library, which is widely used for data manipulation and analysis. A DataFrame is made up of rows and columns, where each column can hold data of a different type (e.g., integers, floats, strings). It offers powerful tools for reading, writing, filtering, grouping, and summarizing data. The labels for rows (called the index) and columns make it easy to access and manipulate data in a flexible and intuitive way. Because of its ability to handle real-world data efficiently and integrate well with other libraries like NumPy and Matplotlib, the Pandas DataFrame has become a central structure in data science and analytics in Python."
      ],
      "metadata": {
        "id": "RYM9sNs_UGNH"
      }
    },
    {
      "cell_type": "markdown",
      "source": [
        "4.  Explain the use of the groupby() method in Pandas?\n",
        " - The `groupby()` method in Pandas is used to split a DataFrame into groups based on the values in one or more columns, allowing you to perform operations like aggregation, transformation, or filtering on each group separately. It follows a **\"split-apply-combine\"** strategy: first, the data is split into groups; then a function is applied to each group (like `sum()`, `mean()`, or `count()`); and finally, the results are combined into a new DataFrame. This is particularly useful for analyzing data by categories—for example, calculating the average sales by region, the total revenue by product, or the number of entries per group. The `groupby()` method makes it easy to extract meaningful insights from structured datasets with repeated values or categories."
      ],
      "metadata": {
        "id": "Y2a4mAYsUOM2"
      }
    },
    {
      "cell_type": "markdown",
      "source": [
        "5. Why is Seaborn preferred for statistical visualizations?\n",
        " - Seaborn is preferred for statistical visualizations because it is specifically designed to work with **Pandas DataFrames** and provides a high-level interface for drawing attractive, informative statistical graphics. Unlike other visualization libraries like Matplotlib, Seaborn simplifies the process of creating complex plots and integrates seamlessly with Pandas data structures. It comes with built-in themes and color palettes that make plots more aesthetically pleasing and readable, which is especially important for presentations and reports. Additionally, Seaborn provides specialized functions for creating advanced statistical plots like violin plots, box plots, pair plots, and heatmaps, which help in exploring and understanding the distribution and relationships within data. Its ability to handle categorical and continuous data effectively, coupled with built-in support for statistical estimation and regression lines, makes it a go-to tool for statistical visualization in data science."
      ],
      "metadata": {
        "id": "TQgz61Z2UWLX"
      }
    },
    {
      "cell_type": "markdown",
      "source": [
        "6.  What are the differences between NumPy arrays and Python lists?\n",
        " - The primary differences between **NumPy arrays** and **Python lists** lie in performance, functionality, and ease of use for numerical computations. Here are the key distinctions:\n",
        "\n",
        "- **Performance**:\n",
        "   - **NumPy Arrays**: Are implemented in C, making them **much faster** than Python lists, especially when dealing with large datasets. Operations on NumPy arrays are optimized and can be performed in a vectorized manner, which avoids the overhead of loops and improves speed.\n",
        "   - **Python Lists**: Are more general-purpose and less efficient for numerical computations. Operations like element-wise addition or multiplication require explicit loops, making them slower for large datasets.\n",
        "\n",
        "- **Memory Efficiency**:\n",
        "   - **NumPy Arrays**: Are **more memory efficient** because they store data in a contiguous block of memory, unlike Python lists, which store references to separate objects. This allows NumPy to handle large arrays with less memory overhead.\n",
        "   - **Python Lists**: Store pointers to Python objects, which consume more memory and can lead to slower performance when dealing with large datasets.\n",
        "\n",
        "- **Homogeneity vs. Heterogeneity**:\n",
        "   - **NumPy Arrays**: Are **homogeneous**, meaning all elements must be of the same type (e.g., all integers or all floats). This allows NumPy to optimize memory and performance for numerical operations.\n",
        "   - **Python Lists**: Are **heterogeneous**, meaning they can contain elements of different types (e.g., integers, strings, or objects). This makes them more flexible but less efficient for numerical tasks.\n",
        "\n",
        "- **Functionality**:\n",
        "   - **NumPy Arrays**: Come with a vast number of **built-in mathematical operations** and **functions** that work directly on the array without the need for loops. NumPy arrays support **element-wise operations** like addition, subtraction, multiplication, and more complex functions like linear algebra, Fourier transforms, and statistics.\n",
        "   - **Python Lists**: Do not have built-in functions for mathematical operations. To perform element-wise operations or numerical tasks, you need to manually loop through the list or use list comprehensions, which is less efficient and slower.\n",
        "\n",
        "- **Shape and Dimensionality**:\n",
        "   - **NumPy Arrays**: Can be **multi-dimensional** (1D, 2D, 3D, etc.), allowing for complex data structures like matrices and tensors. Operations like matrix multiplication or reshaping are straightforward in NumPy.\n",
        "   - **Python Lists**: Are inherently **1-dimensional** and do not natively support multi-dimensional structures, though nested lists can be used to simulate multi-dimensional data.\n",
        "\n",
        "- **Vectorization**:\n",
        "   - **NumPy Arrays**: Support **vectorized operations**, meaning you can apply functions to entire arrays at once without using loops. This leads to more concise, readable, and efficient code.\n",
        "   - **Python Lists**: Do not support vectorization. For performing element-wise operations, you need to write explicit loops or use list comprehensions.\n",
        "\n",
        "\n"
      ],
      "metadata": {
        "id": "HhRWwd8oUdvv"
      }
    },
    {
      "cell_type": "markdown",
      "source": [
        "7. What is a heatmap, and when should it be used?\n",
        " - A heatmap is a data visualization technique that uses color to represent the values in a matrix or grid, with each value corresponding to a specific color on a gradient. This type of visualization is particularly useful for quickly identifying patterns, correlations, and trends in large datasets. Heatmaps are commonly used in situations such as visualizing correlation matrices to explore relationships between variables, analyzing data density in geospatial studies, and tracking trends over time across different dimensions. They can also be helpful in clustering analysis, where color intensity indicates how strongly data points belong to specific clusters. Heatmaps are ideal when dealing with dense data and when you need to visually compare the magnitude of values across a wide range of categories or time periods. However, they are less effective for smaller datasets or when precise numerical values are needed, as they emphasize trends over exact details."
      ],
      "metadata": {
        "id": "l2b82KZnU4sO"
      }
    },
    {
      "cell_type": "markdown",
      "source": [
        "8. What does the term “vectorized operation” mean in NumPy?\n",
        " - In NumPy, a **vectorized operation** refers to the ability to perform element-wise operations on entire arrays without using explicit loops. This is possible because NumPy is optimized at a low level, typically using C-based implementations that allow operations to be applied to entire arrays or sub-arrays simultaneously. For example, instead of manually iterating through an array with a loop to add, subtract, or multiply elements, NumPy allows you to apply these operations directly to the entire array in a single, concise expression. Vectorized operations are not only more readable but also significantly faster, as they leverage low-level optimizations and take advantage of parallel processing, making them highly efficient, especially with large datasets."
      ],
      "metadata": {
        "id": "akZpwJv4WEYV"
      }
    },
    {
      "cell_type": "markdown",
      "source": [
        "9. How does Matplotlib differ from Plotly?\n",
        " - Matplotlib and Plotly are both powerful Python libraries for data visualization, but they serve different purposes and offer distinct experiences. Matplotlib is a more traditional, low-level plotting library that's great for creating static, publication-quality visualizations. It's highly customizable and integrates well with other scientific libraries like NumPy and pandas, but it requires more code and has a steeper learning curve. Plotly, on the other hand, is a modern, high-level library focused on interactivity and ease of use. It creates web-based, interactive plots with features like tooltips, zooming, and panning right out of the box. Plotly is especially useful for dashboards and data exploration, particularly when used with Plotly Dash. While Matplotlib excels in detailed control and print-ready figures, Plotly shines in creating dynamic, visually engaging plots for the web."
      ],
      "metadata": {
        "id": "RrOi48bRWRqm"
      }
    },
    {
      "cell_type": "markdown",
      "source": [
        "10. What is the significance of hierarchical indexing in Pandas?\n",
        " - Hierarchical indexing, or MultiIndexing, in pandas is significant because it allows for more efficient and flexible handling of complex and multi-dimensional data within a one-dimensional Series or two-dimensional DataFrame. Instead of being limited to a single level of indexing, hierarchical indexing enables the use of multiple index levels, which is particularly useful when dealing with data that has multiple categorical variables or nested groupings, such as sales data categorized by both region and year. This structure makes it easier to perform advanced data operations like grouping, slicing, reshaping, and aggregation across different levels of the index. It enhances readability, supports more intuitive data selection using methods like `.loc[]`, and simplifies the organization and analysis of structured datasets, especially in time series, panel data, or multi-level categorical data."
      ],
      "metadata": {
        "id": "aeUgYbcPa109"
      }
    },
    {
      "cell_type": "markdown",
      "source": [
        "11. What is the role of Seaborn’s pairplot() function?\n",
        " - The `pairplot()` function in Seaborn plays a key role in **exploratory data analysis** by allowing you to quickly visualize the relationships between multiple numerical variables in a dataset. It creates a matrix of plots where each variable is plotted against every other variable, showing **scatter plots** for variable pairs and **histograms or KDE plots** on the diagonals for individual variable distributions. This helps in identifying patterns, correlations, clusters, and potential outliers. Additionally, you can use the `hue` parameter to color-code the data points based on a categorical variable, making it easier to spot group-wise trends or separations in the data. Overall, `pairplot()` provides a compact and insightful way to understand the structure and relationships within a dataset."
      ],
      "metadata": {
        "id": "TR-T__ozcfB7"
      }
    },
    {
      "cell_type": "markdown",
      "source": [
        "12.  What is the purpose of the describe() function in Pandas?\n",
        " - The `describe()` function in pandas is used to generate a quick and convenient **summary of statistical measures** for a DataFrame or Series. Its purpose is to provide insights into the central tendency, spread, and shape of the data distribution. By default, it returns metrics such as **count, mean, standard deviation, minimum, 25th percentile, median (50%), 75th percentile, and maximum** for each numerical column. This helps in understanding the basic characteristics of the dataset at a glance. For categorical data, if `include='object'` or `include='all'` is specified, it returns stats like **count, unique, top, and frequency**. Overall, `describe()` is a powerful tool for quick data inspection and is often one of the first steps in exploratory data analysis."
      ],
      "metadata": {
        "id": "6LSh7aTucsfL"
      }
    },
    {
      "cell_type": "markdown",
      "source": [
        "13.  Why is handling missing data important in Pandas?\n",
        " - Handling missing data in pandas is important because missing values can significantly affect the accuracy and reliability of data analysis and machine learning models. If not properly managed, they can lead to incorrect conclusions, biased results, or errors in computations. In real-world datasets, missing data is common due to various reasons like data entry errors, incomplete data collection, or system issues. Pandas provides several tools to detect, remove, or fill in missing values, allowing analysts to maintain data integrity. By handling missing data appropriately—whether through imputation, deletion, or other methods—you ensure that the dataset remains clean, consistent, and suitable for meaningful analysis."
      ],
      "metadata": {
        "id": "MZa8aXoOdMUz"
      }
    },
    {
      "cell_type": "markdown",
      "source": [
        "14. What are the benefits of using Plotly for data visualization?\n",
        " - Using Plotly for data visualization offers several key benefits, especially when it comes to creating interactive and visually appealing charts. One of the main advantages is its **interactivity**—Plotly charts come with built-in features like zooming, panning, tooltips, and legend toggling, which make data exploration more intuitive and engaging. It also supports a wide variety of chart types, from simple line and bar charts to complex 3D plots, maps, and statistical visualizations. Another major benefit is its **web-based rendering**, which means plots can be easily embedded in web apps or dashboards, especially when using tools like Plotly Dash. Additionally, Plotly has a user-friendly API, particularly with `plotly.express`, making it easier and faster to create advanced visualizations compared to traditional libraries. It also integrates smoothly with pandas and works well in Jupyter Notebooks, making it a great choice for data analysts and scientists looking for both functionality and aesthetics in their visualizations.\n"
      ],
      "metadata": {
        "id": "u53acy3xdbqj"
      }
    },
    {
      "cell_type": "markdown",
      "source": [
        "15. How does NumPy handle multidimensional arrays?\n",
        " - NumPy handles multidimensional arrays through its powerful **ndarray (n-dimensional array)** object, which allows efficient storage and manipulation of data in multiple dimensions. Unlike regular Python lists, NumPy arrays are **homogeneous** (all elements are of the same data type) and support operations across multiple dimensions without the need for explicit loops.\n",
        "\n",
        "Each array has attributes like `.ndim` (number of dimensions), `.shape` (size of each dimension), and `.dtype` (data type of elements), which make it easy to understand and work with complex data structures. NumPy provides a rich set of functions for performing operations such as slicing, reshaping, broadcasting, and mathematical computations on multidimensional arrays. This capability is essential for tasks in scientific computing, image processing, machine learning, and more, where data often comes in the form of matrices or tensors. Overall, NumPy's efficient handling of multidimensional arrays forms the backbone of numerical computing in Python."
      ],
      "metadata": {
        "id": "SK4JPcBrdoyb"
      }
    },
    {
      "cell_type": "markdown",
      "source": [
        "16. What is the role of Bokeh in data visualization?\n",
        " - Bokeh plays a key role in data visualization by enabling the creation of **interactive, web-ready visualizations** directly from Python. Its main strength lies in its ability to generate dynamic plots that can be easily embedded in web applications or dashboards without requiring JavaScript knowledge. Bokeh supports a wide range of charts—like line plots, bar charts, heatmaps, and even complex layouts—with features such as zooming, panning, tooltips, and real-time updates.\n",
        "\n",
        "Unlike static libraries like Matplotlib, Bokeh is designed for **modern web browsers**, making it ideal for **interactive data exploration** and **dashboard development**. It integrates well with other data science tools like pandas and Jupyter Notebooks, and also provides a server component (`Bokeh Server`) for building more advanced, interactive web apps that can respond to user input. In summary, Bokeh is powerful for turning data into rich, interactive visual narratives suitable for both analysis and presentation."
      ],
      "metadata": {
        "id": "2YnQrkbOd0LT"
      }
    },
    {
      "cell_type": "markdown",
      "source": [
        "17. Explain the difference between apply() and map() in Pandas?\n",
        " - In pandas, both `apply()` and `map()` are used to apply functions to data, but they differ in their scope and flexibility. `apply()` is a more versatile function that works on both **Series** and **DataFrames**, allowing you to apply a function either along rows or columns, and it can return various types of results, such as scalars, lists, Series, or even DataFrames. This makes it suitable for complex operations, including aggregations and transformations across rows or columns. On the other hand, `map()` is specifically designed for **Series** and is used to apply a function element-wise to each value in the Series, making it ideal for simpler operations like replacing or transforming values. While `map()` is more limited in scope compared to `apply()`, it is more efficient for straightforward, element-wise transformations, such as mapping values to new ones using a dictionary. In short, use `map()` for basic element-wise transformations in a Series, and use `apply()` for more complex, flexible operations on both Series and DataFrames."
      ],
      "metadata": {
        "id": "agqnKBjbd-gL"
      }
    },
    {
      "cell_type": "markdown",
      "source": [
        "18. A What are some advanced features of NumPy?\n",
        " - NumPy offers several advanced features that make it a powerful library for numerical computing in Python, particularly when working with large datasets or complex mathematical operations. Some of these features include:\n",
        "\n",
        "- **Broadcasting**: Broadcasting allows NumPy to perform element-wise operations on arrays of different shapes, without requiring explicit loops. It automatically expands the smaller array to match the dimensions of the larger one, making vectorized operations more efficient and intuitive.\n",
        "\n",
        "- **Advanced Indexing**: NumPy supports advanced indexing techniques like **fancy indexing** (using integer or boolean arrays to index), **slicing with multiple dimensions**, and **view** versus **copy** operations, giving you more control over array manipulation and memory usage.\n",
        "\n",
        "- **Linear Algebra Functions**: NumPy includes a robust set of linear algebra functions, such as `numpy.linalg` for matrix operations (e.g., matrix multiplication, inversion, eigenvalue decomposition) and solving systems of linear equations, which are essential in fields like machine learning and scientific computing.\n",
        "\n",
        "- **Random Sampling**: With `numpy.random`, NumPy provides an extensive suite of functions for random number generation, including normal, uniform, and binomial distributions, and tools for shuffling, sampling, and generating random permutations, which are vital in simulations and statistical modeling.\n",
        "\n",
        "- **Vectorization**: NumPy enables **vectorized operations**, meaning you can apply mathematical operations to entire arrays at once, rather than using loops. This drastically improves performance by taking advantage of low-level optimizations and avoiding Python’s slower looping constructs.\n",
        "\n",
        "- **Masked Arrays**: NumPy offers support for **masked arrays**, where certain values are treated as invalid or missing. This is useful for handling datasets with missing or corrupted values without needing to create separate arrays for valid and invalid data.\n",
        "\n",
        "- **Memory Management and Efficiency**: NumPy provides tools to manage memory efficiently, such as **views** (sub-arrays that share the same data buffer), allowing you to avoid duplicating data when manipulating arrays. It also includes functions like `np.frombuffer()` to read data from buffers directly into arrays, improving performance for large datasets.\n",
        "\n",
        "- **Multidimensional Array Manipulation**: NumPy's multidimensional arrays (ndarrays) provide high-level functions for reshaping, transposing, stacking, splitting, and joining arrays, facilitating complex data manipulations and transformations required in various scientific and engineering applications.\n",
        "\n",
        "- **Fourier Transforms and Signal Processing**: Through `numpy.fft`, NumPy supports efficient computation of **Fourier transforms**, which are critical in signal processing, image analysis, and other domains where frequency analysis is required.\n",
        "\n",
        "- **Universal Functions (ufuncs)**: NumPy provides a powerful set of **ufuncs** (universal functions) that allow for efficient, element-wise operations on arrays. These include basic mathematical operations like addition, multiplication, trigonometric functions, and more, all optimized for performance.\n",
        "\n"
      ],
      "metadata": {
        "id": "YFSY9NOjeYuD"
      }
    },
    {
      "cell_type": "markdown",
      "source": [
        "19. How does Pandas simplify time series analysis?\n",
        " - Pandas significantly simplifies time series analysis by providing the `DatetimeIndex`, a specialized index that understands chronological data, enabling intuitive slicing and parsing of various date/time formats. It offers powerful time-aware operations like `.resample()` for frequency conversion, `.shift()` for lagging data, and `.rolling()` for moving window calculations, all crucial for analyzing temporal patterns. Furthermore, Pandas seamlessly integrates with other essential libraries like Statsmodels for statistical modeling and Matplotlib/Seaborn for visualization, making the entire analysis workflow more efficient. Finally, its robust handling of missing data through methods like `.fillna()` and `.interpolate()` ensures data quality for meaningful time series insights."
      ],
      "metadata": {
        "id": "gUM2uZfDe4RK"
      }
    },
    {
      "cell_type": "markdown",
      "source": [
        "20. A What is the role of a pivot table in Pandas?\n",
        " - In Pandas, a pivot table serves as a powerful tool for **restructuring and summarizing data**. Think of it as a way to take a long, potentially messy DataFrame and reshape it into a more concise and insightful tabular format. You essentially choose one or more columns to become the **index** (rows) of the new table, another column (or columns) to become the **columns**, and then specify which values from the original DataFrame should populate the cells of this new table, often applying an **aggregation function** (like mean, sum, count) to handle cases where multiple original entries map to the same cell in the pivot table. This allows you to easily cross-tabulate data, identify relationships between different variables, and gain a clearer overview of your dataset by aggregating information in a meaningful way. For example, you could transform a table of sales data with columns for 'Region', 'Product', and 'Sales Amount' into a pivot table showing the total sales for each product within each region, making it much easier to compare performance across different categories."
      ],
      "metadata": {
        "id": "hWvrf_D_jHBi"
      }
    },
    {
      "cell_type": "markdown",
      "source": [
        "21.  Why is NumPy’s array slicing faster than Python’s list slicing?\n",
        " - That's an excellent question! NumPy's array slicing enjoys a significant speed advantage over Python's list slicing due to several key underlying differences in how these data structures are implemented and how slicing operations are handled:\n",
        "\n",
        "* **Contiguous Memory Allocation:** NumPy arrays are stored in contiguous blocks of memory. This means that all the elements of an array are located next to each other in the computer's RAM. When you slice a NumPy array, you're essentially creating a **view** of a portion of this contiguous memory block. This view doesn't involve copying the underlying data unless explicitly requested. The new slice simply points to a different starting position and has a different \"stride\" (the number of bytes to jump to get to the next element). Accessing elements within this view is very fast because the memory locations are predictable and close together, which is efficient for the CPU's cache.\n",
        "\n",
        "* **Non-Contiguous Memory Allocation (Python Lists):** Python lists, on the other hand, are implemented as arrays of pointers to Python objects. These objects can be scattered anywhere in memory. When you slice a Python list, a **new list object** is created, and the elements of the original list corresponding to the slice are **copied** into this new list. This copying process involves allocating new memory and then individually copying each element, which is a much more time-consuming operation.\n",
        "\n",
        "* **Optimized C Implementation:** NumPy is largely implemented in C, which is a lower-level language that allows for direct memory manipulation and highly optimized code. The slicing operations in NumPy are performed by compiled C code, making them significantly faster than the equivalent operations in Python, which is an interpreted language.\n",
        "\n",
        "* **Type Homogeneity:** NumPy arrays are typically homogeneous, meaning they contain elements of the same data type (e.g., all integers or all floats). This uniformity allows NumPy to perform operations, including slicing, more efficiently because it knows the size of each element in memory. Python lists can contain elements of different data types, which adds overhead during operations.\n",
        "\n"
      ],
      "metadata": {
        "id": "ZP2xdbCCkxMK"
      }
    },
    {
      "cell_type": "markdown",
      "source": [
        "22. What are some common use cases for Seaborn?\n",
        " - Seaborn is a powerful Python data visualization library built on top of Matplotlib. It provides a high-level interface for creating informative and attractive statistical graphics. Here are some common and compelling use cases for Seaborn:\n",
        "\n",
        "**1. Exploring Relationships Between Variables:**\n",
        "\n",
        "* **Scatter Plots (`sns.scatterplot()`):** Visualizing the relationship between two numerical variables. You can easily add a third variable by encoding it with color, size, or shape of the points.\n",
        "    * *Example:* Examining the correlation between advertising spend and sales revenue, with different colors representing different product categories.\n",
        "* **Line Plots (`sns.lineplot()`):** Showing trends over a continuous variable, often time. You can visualize multiple series on the same plot and add confidence intervals.\n",
        "    * *Example:* Tracking the stock price of multiple companies over the past year.\n",
        "* **Joint Plots (`sns.jointplot()`):** Displaying the relationship between two variables along with their univariate distributions (histograms or KDE plots) on the margins.\n",
        "    * *Example:* Analyzing the distribution of customer age and their spending amount, and seeing their joint distribution.\n",
        "* **Pair Plots (`sns.pairplot()`):** Creating a matrix of scatter plots for all pairs of numerical variables in a DataFrame, along with univariate histograms/KDEs on the diagonal. This is excellent for initial exploratory data analysis.\n",
        "    * *Example:* Quickly visualizing relationships between various features in a dataset like iris or a customer demographics dataset.\n",
        "* **Heatmaps (`sns.heatmap()`):** Visualizing the correlation matrix between numerical variables or displaying the magnitude of a third variable across two categorical variables.\n",
        "    * *Example:* Identifying highly correlated features in a machine learning dataset or showing user ratings for different movies.\n",
        "\n",
        "**2. Comparing Distributions of Data:**\n",
        "\n",
        "* **Histograms (`sns.histplot()`):** Visualizing the distribution of a single numerical variable by dividing the data into bins.\n",
        "    * *Example:* Showing the distribution of ages in a population.\n",
        "* **Kernel Density Estimates (KDEs) (`sns.kdeplot()`):** Providing a smoothed estimate of the probability density function of a numerical variable.\n",
        "    * *Example:* Comparing the distribution of exam scores between two different teaching methods.\n",
        "* **Box Plots (`sns.boxplot()`):** Displaying the distribution of a numerical variable across different categories, showing quartiles, median, and potential outliers.\n",
        "    * *Example:* Comparing the salaries of different job roles within a company.\n",
        "* **Violin Plots (`sns.violinplot()`):** Similar to box plots but also showing the kernel density estimate of the underlying distribution for each category.\n",
        "    * *Example:* Comparing the distribution of customer satisfaction scores for different product features.\n",
        "* **Strip Plots (`sns.stripplot()`):** Showing the distribution of individual data points across different categories, often used in conjunction with box or violin plots to visualize the actual data.\n",
        "    * *Example:* Visualizing the individual response times for different experimental conditions.\n",
        "* **Swarm Plots (`sns.swarmplot()`):** Similar to strip plots but arranging points to avoid overlap, providing a better view of the distribution shape.\n",
        "    * *Example:* Showing the distribution of the number of bugs reported by different developers.\n",
        "\n",
        "**3. Visualizing Categorical Data:**\n",
        "\n",
        "* **Bar Plots (`sns.barplot()`):** Displaying the mean (or other aggregate function) of a numerical variable for different categories. Error bars can be added to show confidence intervals.\n",
        "    * *Example:* Comparing the average sales for different product categories.\n",
        "* **Count Plots (`sns.countplot()`):** Showing the frequency of each category in a categorical variable.\n",
        "    * *Example:* Visualizing the number of customers in different geographical regions.\n",
        "* **Point Plots (`sns.pointplot()`):** Similar to bar plots but using points connected by lines to show the mean and confidence intervals for different categories. Useful for visualizing interactions between categorical variables.\n",
        "    * *Example:* Comparing the average test scores of students in different grades across different schools.\n",
        "\n",
        "**4. Showing Relationships with Categorical Variables:**\n",
        "\n",
        "* Many of the distribution plots (box plots, violin plots, strip plots, swarm plots) are excellent for comparing the distribution of a numerical variable across different categorical groups.\n",
        "\n",
        "**5. Enhancing Matplotlib Visualizations:**\n",
        "\n",
        "* Seaborn provides aesthetically pleasing default styles and color palettes that can be easily applied to Matplotlib plots using `sns.set_theme()`. This can instantly improve the visual appeal of your graphs.\n",
        "* Seaborn functions often handle complexities like proper labeling, legend creation, and statistical annotations more conveniently than raw Matplotlib.\n",
        "\n"
      ],
      "metadata": {
        "id": "zx2wUn9ok_li"
      }
    },
    {
      "cell_type": "markdown",
      "source": [
        "***PRACTICAL QUESTIONS***"
      ],
      "metadata": {
        "id": "XcRiBTyLlVJR"
      }
    },
    {
      "cell_type": "markdown",
      "source": [
        "1. How do you create a 2D NumPy array and calculate the sum of each row."
      ],
      "metadata": {
        "id": "gjRWh87Slakh"
      }
    },
    {
      "cell_type": "code",
      "source": [
        "import numpy as np; print(np.sum(np.array([[1, 2, 3], [4, 5, 6], [7, 8, 9]]), axis=1))\n"
      ],
      "metadata": {
        "colab": {
          "base_uri": "https://localhost:8080/"
        },
        "id": "PgGb3IhvlsTo",
        "outputId": "36aad015-2ee7-45ee-8e8d-360969914999"
      },
      "execution_count": 1,
      "outputs": [
        {
          "output_type": "stream",
          "name": "stdout",
          "text": [
            "[ 6 15 24]\n"
          ]
        }
      ]
    },
    {
      "cell_type": "markdown",
      "source": [
        "2. Write a Pandas script to find the mean of a specific column in a DataFrame."
      ],
      "metadata": {
        "id": "5AY-FgTplyVJ"
      }
    },
    {
      "cell_type": "code",
      "source": [
        "import pandas as pd\n",
        "\n",
        "# Sample data\n",
        "data = {\n",
        "    'Name': ['Alice', 'Bob', 'Charlie', 'David'],\n",
        "    'Age': [25, 30, 35, 40],\n",
        "    'Score': [85, 90, 78, 92]\n",
        "}\n",
        "\n",
        "# Create DataFrame\n",
        "df = pd.DataFrame(data)\n",
        "\n",
        "# Specify the column you want to calculate the mean for\n",
        "column_name = 'Score'\n",
        "\n",
        "# Calculate the mean\n",
        "mean_value = df[column_name].mean()\n",
        "\n",
        "print(f\"The mean of the '{column_name}' column is: {mean_value}\")"
      ],
      "metadata": {
        "colab": {
          "base_uri": "https://localhost:8080/"
        },
        "id": "bX7uvQm9mlBR",
        "outputId": "16b18b9d-01b6-4f2c-8de8-5597b6b908d3"
      },
      "execution_count": 3,
      "outputs": [
        {
          "output_type": "stream",
          "name": "stdout",
          "text": [
            "The mean of the 'Score' column is: 86.25\n"
          ]
        }
      ]
    },
    {
      "cell_type": "markdown",
      "source": [
        "3. Create a scatter plot using Matplotlib."
      ],
      "metadata": {
        "id": "LS12EfV5nO4J"
      }
    },
    {
      "cell_type": "code",
      "source": [
        "import matplotlib.pyplot as plt\n",
        "\n",
        "# Sample data\n",
        "x = [10, 20, 30, 40, 50]\n",
        "y = [3, 7, 8, 5, 10]\n",
        "\n",
        "# Create scatter plot\n",
        "plt.scatter(x, y, color='blue', marker='o')\n",
        "\n",
        "# Add labels and title\n",
        "plt.xlabel('X Axis')\n",
        "plt.ylabel('Y Axis')\n",
        "plt.title('Simple Scatter Plot')\n",
        "\n",
        "# Show plot\n",
        "plt.show()"
      ],
      "metadata": {
        "colab": {
          "base_uri": "https://localhost:8080/",
          "height": 472
        },
        "id": "00h9pv0gnbwg",
        "outputId": "c9a8f9ec-644f-413b-c07f-3f33a8eaa67e"
      },
      "execution_count": 4,
      "outputs": [
        {
          "output_type": "display_data",
          "data": {
            "text/plain": [
              "<Figure size 640x480 with 1 Axes>"
            ],
            "image/png": "[encoded data removed]"
          },
          "metadata": {}
        }
      ]
    },
    {
      "cell_type": "markdown",
      "source": [
        "4. How do you calculate the correlation matrix using Seaborn and visualize it with a heatmap."
      ],
      "metadata": {
        "id": "_D_ieOTEngs4"
      }
    },
    {
      "cell_type": "code",
      "source": [
        "import pandas as pd\n",
        "import seaborn as sns\n",
        "import matplotlib.pyplot as plt\n",
        "\n",
        "# Sample data\n",
        "data = {\n",
        "    'A': [1, 2, 3, 4, 5],\n",
        "    'B': [5, 4, 3, 2, 1],\n",
        "    'C': [2, 3, 4, 5, 6]\n",
        "}\n",
        "\n",
        "# Create DataFrame\n",
        "df = pd.DataFrame(data)\n",
        "\n",
        "# Calculate correlation matrix\n",
        "corr_matrix = df.corr()\n",
        "\n",
        "# Create heatmap\n",
        "sns.heatmap(corr_matrix, annot=True, cmap='coolwarm', linewidths=0.5)\n",
        "\n",
        "# Add title\n",
        "plt.title('Correlation Matrix Heatmap')\n",
        "\n",
        "# Show plot\n",
        "plt.show()"
      ],
      "metadata": {
        "colab": {
          "base_uri": "https://localhost:8080/",
          "height": 452
        },
        "id": "gkyL2kVVn5mg",
        "outputId": "26d1aa28-fef1-4c7a-a17d-cec7413e9bb9"
      },
      "execution_count": 5,
      "outputs": [
        {
          "output_type": "display_data",
          "data": {
            "text/plain": [
              "<Figure size 640x480 with 2 Axes>"
            ],
            "image/png": "[encoded data removed]"
          },
          "metadata": {}
        }
      ]
    },
    {
      "cell_type": "markdown",
      "source": [
        "5. Generate a bar plot using Plotly."
      ],
      "metadata": {
        "id": "FwHu88lun9tZ"
      }
    },
    {
      "cell_type": "code",
      "source": [
        "import plotly.express as px\n",
        "\n",
        "# Sample data\n",
        "data = {\n",
        "    'Category': ['A', 'B', 'C', 'D'],\n",
        "    'Values': [23, 17, 35, 29]\n",
        "}\n",
        "\n",
        "# Create bar plot\n",
        "fig = px.bar(data, x='Category', y='Values', title='Bar Plot Example')\n",
        "\n",
        "# Show plot\n",
        "fig.show()"
      ],
      "metadata": {
        "colab": {
          "base_uri": "https://localhost:8080/",
          "height": 542
        },
        "id": "V6qg6TedoRv4",
        "outputId": "2d59b864-47c2-44ff-9803-2ae59cdfaf5b"
      },
      "execution_count": 6,
      "outputs": [
        {
          "output_type": "display_data",
          "data": {
            "text/html": [
              "<html>\n",
              "<head><meta charset=\"utf-8\" /></head>\n",
              "<body>\n",
              "    <div>            <script src=\"https://cdnjs.cloudflare.com/ajax/libs/mathjax/2.7.5/MathJax.js?config=TeX-AMS-MML_SVG\"></script><script type=\"text/javascript\">if (window.MathJax && window.MathJax.Hub && window.MathJax.Hub.Config) {window.MathJax.Hub.Config({SVG: {font: \"STIX-Web\"}});}</script>                <script type=\"text/javascript\">window.PlotlyConfig = {MathJaxConfig: 'local'};</script>\n",
              "        <script charset=\"utf-8\" src=\"https://cdn.plot.ly/plotly-2.35.2.min.js\"></script>                <div id=\"043d4b87-4f5a-4fee-9c80-6f5e562d33da\" class=\"plotly-graph-div\" style=\"height:525px; width:100%;\"></div>            <script type=\"text/javascript\">                                    window.PLOTLYENV=window.PLOTLYENV || {};                                    if (document.getElementById(\"043d4b87-4f5a-4fee-9c80-6f5e562d33da\")) {                    Plotly.newPlot(                        \"043d4b87-4f5a-4fee-9c80-6f5e562d33da\",                        [{\"alignmentgroup\":\"True\",\"hovertemplate\":\"Category=%{x}\\u003cbr\\u003eValues=%{y}\\u003cextra\\u003e\\u003c\\u002fextra\\u003e\",\"legendgroup\":\"\",\"marker\":{\"color\":\"#636efa\",\"pattern\":{\"shape\":\"\"}},\"name\":\"\",\"offsetgroup\":\"\",\"orientation\":\"v\",\"showlegend\":false,\"textposition\":\"auto\",\"x\":[\"A\",\"B\",\"C\",\"D\"],\"xaxis\":\"x\",\"y\":[23,17,35,29],\"yaxis\":\"y\",\"type\":\"bar\"}],                        {\"template\":{\"data\":{\"histogram2dcontour\":[{\"type\":\"histogram2dcontour\",\"colorbar\":{\"outlinewidth\":0,\"ticks\":\"\"},\"colorscale\":[[0.0,\"#0d0887\"],[0.1111111111111111,\"#46039f\"],[0.2222222222222222,\"#7201a8\"],[0.3333333333333333,\"#9c179e\"],[0.4444444444444444,\"#bd3786\"],[0.5555555555555556,\"#d8576b\"],[0.6666666666666666,\"#ed7953\"],[0.7777777777777778,\"#fb9f3a\"],[0.8888888888888888,\"#fdca26\"],[1.0,\"#f0f921\"]]}],\"choropleth\":[{\"type\":\"choropleth\",\"colorbar\":{\"outlinewidth\":0,\"ticks\":\"\"}}],\"histogram2d\":[{\"type\":\"histogram2d\",\"colorbar\":{\"outlinewidth\":0,\"ticks\":\"\"},\"colorscale\":[[0.0,\"#0d0887\"],[0.1111111111111111,\"#46039f\"],[0.2222222222222222,\"#7201a8\"],[0.3333333333333333,\"#9c179e\"],[0.4444444444444444,\"#bd3786\"],[0.5555555555555556,\"#d8576b\"],[0.6666666666666666,\"#ed7953\"],[0.7777777777777778,\"#fb9f3a\"],[0.8888888888888888,\"#fdca26\"],[1.0,\"#f0f921\"]]}],\"heatmap\":[{\"type\":\"heatmap\",\"colorbar\":{\"outlinewidth\":0,\"ticks\":\"\"},\"colorscale\":[[0.0,\"#0d0887\"],[0.1111111111111111,\"#46039f\"],[0.2222222222222222,\"#7201a8\"],[0.3333333333333333,\"#9c179e\"],[0.4444444444444444,\"#bd3786\"],[0.5555555555555556,\"#d8576b\"],[0.6666666666666666,\"#ed7953\"],[0.7777777777777778,\"#fb9f3a\"],[0.8888888888888888,\"#fdca26\"],[1.0,\"#f0f921\"]]}],\"heatmapgl\":[{\"type\":\"heatmapgl\",\"colorbar\":{\"outlinewidth\":0,\"ticks\":\"\"},\"colorscale\":[[0.0,\"#0d0887\"],[0.1111111111111111,\"#46039f\"],[0.2222222222222222,\"#7201a8\"],[0.3333333333333333,\"#9c179e\"],[0.4444444444444444,\"#bd3786\"],[0.5555555555555556,\"#d8576b\"],[0.6666666666666666,\"#ed7953\"],[0.7777777777777778,\"#fb9f3a\"],[0.8888888888888888,\"#fdca26\"],[1.0,\"#f0f921\"]]}],\"contourcarpet\":[{\"type\":\"contourcarpet\",\"colorbar\":{\"outlinewidth\":0,\"ticks\":\"\"}}],\"contour\":[{\"type\":\"contour\",\"colorbar\":{\"outlinewidth\":0,\"ticks\":\"\"},\"colorscale\":[[0.0,\"#0d0887\"],[0.1111111111111111,\"#46039f\"],[0.2222222222222222,\"#7201a8\"],[0.3333333333333333,\"#9c179e\"],[0.4444444444444444,\"#bd3786\"],[0.5555555555555556,\"#d8576b\"],[0.6666666666666666,\"#ed7953\"],[0.7777777777777778,\"#fb9f3a\"],[0.8888888888888888,\"#fdca26\"],[1.0,\"#f0f921\"]]}],\"surface\":[{\"type\":\"surface\",\"colorbar\":{\"outlinewidth\":0,\"ticks\":\"\"},\"colorscale\":[[0.0,\"#0d0887\"],[0.1111111111111111,\"#46039f\"],[0.2222222222222222,\"#7201a8\"],[0.3333333333333333,\"#9c179e\"],[0.4444444444444444,\"#bd3786\"],[0.5555555555555556,\"#d8576b\"],[0.6666666666666666,\"#ed7953\"],[0.7777777777777778,\"#fb9f3a\"],[0.8888888888888888,\"#fdca26\"],[1.0,\"#f0f921\"]]}],\"mesh3d\":[{\"type\":\"mesh3d\",\"colorbar\":{\"outlinewidth\":0,\"ticks\":\"\"}}],\"scatter\":[{\"fillpattern\":{\"fillmode\":\"overlay\",\"size\":10,\"solidity\":0.2},\"type\":\"scatter\"}],\"parcoords\":[{\"type\":\"parcoords\",\"line\":{\"colorbar\":{\"outlinewidth\":0,\"ticks\":\"\"}}}],\"scatterpolargl\":[{\"type\":\"scatterpolargl\",\"marker\":{\"colorbar\":{\"outlinewidth\":0,\"ticks\":\"\"}}}],\"bar\":[{\"error_x\":{\"color\":\"#2a3f5f\"},\"error_y\":{\"color\":\"#2a3f5f\"},\"marker\":{\"line\":{\"color\":\"#E5ECF6\",\"width\":0.5},\"pattern\":{\"fillmode\":\"overlay\",\"size\":10,\"solidity\":0.2}},\"type\":\"bar\"}],\"scattergeo\":[{\"type\":\"scattergeo\",\"marker\":{\"colorbar\":{\"outlinewidth\":0,\"ticks\":\"\"}}}],\"scatterpolar\":[{\"type\":\"scatterpolar\",\"marker\":{\"colorbar\":{\"outlinewidth\":0,\"ticks\":\"\"}}}],\"histogram\":[{\"marker\":{\"pattern\":{\"fillmode\":\"overlay\",\"size\":10,\"solidity\":0.2}},\"type\":\"histogram\"}],\"scattergl\":[{\"type\":\"scattergl\",\"marker\":{\"colorbar\":{\"outlinewidth\":0,\"ticks\":\"\"}}}],\"scatter3d\":[{\"type\":\"scatter3d\",\"line\":{\"colorbar\":{\"outlinewidth\":0,\"ticks\":\"\"}},\"marker\":{\"colorbar\":{\"outlinewidth\":0,\"ticks\":\"\"}}}],\"scattermapbox\":[{\"type\":\"scattermapbox\",\"marker\":{\"colorbar\":{\"outlinewidth\":0,\"ticks\":\"\"}}}],\"scatterternary\":[{\"type\":\"scatterternary\",\"marker\":{\"colorbar\":{\"outlinewidth\":0,\"ticks\":\"\"}}}],\"scattercarpet\":[{\"type\":\"scattercarpet\",\"marker\":{\"colorbar\":{\"outlinewidth\":0,\"ticks\":\"\"}}}],\"carpet\":[{\"aaxis\":{\"endlinecolor\":\"#2a3f5f\",\"gridcolor\":\"white\",\"linecolor\":\"white\",\"minorgridcolor\":\"white\",\"startlinecolor\":\"#2a3f5f\"},\"baxis\":{\"endlinecolor\":\"#2a3f5f\",\"gridcolor\":\"white\",\"linecolor\":\"white\",\"minorgridcolor\":\"white\",\"startlinecolor\":\"#2a3f5f\"},\"type\":\"carpet\"}],\"table\":[{\"cells\":{\"fill\":{\"color\":\"#EBF0F8\"},\"line\":{\"color\":\"white\"}},\"header\":{\"fill\":{\"color\":\"#C8D4E3\"},\"line\":{\"color\":\"white\"}},\"type\":\"table\"}],\"barpolar\":[{\"marker\":{\"line\":{\"color\":\"#E5ECF6\",\"width\":0.5},\"pattern\":{\"fillmode\":\"overlay\",\"size\":10,\"solidity\":0.2}},\"type\":\"barpolar\"}],\"pie\":[{\"automargin\":true,\"type\":\"pie\"}]},\"layout\":{\"autotypenumbers\":\"strict\",\"colorway\":[\"#636efa\",\"#EF553B\",\"#00cc96\",\"#ab63fa\",\"#FFA15A\",\"#19d3f3\",\"#FF6692\",\"#B6E880\",\"#FF97FF\",\"#FECB52\"],\"font\":{\"color\":\"#2a3f5f\"},\"hovermode\":\"closest\",\"hoverlabel\":{\"align\":\"left\"},\"paper_bgcolor\":\"white\",\"plot_bgcolor\":\"#E5ECF6\",\"polar\":{\"bgcolor\":\"#E5ECF6\",\"angularaxis\":{\"gridcolor\":\"white\",\"linecolor\":\"white\",\"ticks\":\"\"},\"radialaxis\":{\"gridcolor\":\"white\",\"linecolor\":\"white\",\"ticks\":\"\"}},\"ternary\":{\"bgcolor\":\"#E5ECF6\",\"aaxis\":{\"gridcolor\":\"white\",\"linecolor\":\"white\",\"ticks\":\"\"},\"baxis\":{\"gridcolor\":\"white\",\"linecolor\":\"white\",\"ticks\":\"\"},\"caxis\":{\"gridcolor\":\"white\",\"linecolor\":\"white\",\"ticks\":\"\"}},\"coloraxis\":{\"colorbar\":{\"outlinewidth\":0,\"ticks\":\"\"}},\"colorscale\":{\"sequential\":[[0.0,\"#0d0887\"],[0.1111111111111111,\"#46039f\"],[0.2222222222222222,\"#7201a8\"],[0.3333333333333333,\"#9c179e\"],[0.4444444444444444,\"#bd3786\"],[0.5555555555555556,\"#d8576b\"],[0.6666666666666666,\"#ed7953\"],[0.7777777777777778,\"#fb9f3a\"],[0.8888888888888888,\"#fdca26\"],[1.0,\"#f0f921\"]],\"sequentialminus\":[[0.0,\"#0d0887\"],[0.1111111111111111,\"#46039f\"],[0.2222222222222222,\"#7201a8\"],[0.3333333333333333,\"#9c179e\"],[0.4444444444444444,\"#bd3786\"],[0.5555555555555556,\"#d8576b\"],[0.6666666666666666,\"#ed7953\"],[0.7777777777777778,\"#fb9f3a\"],[0.8888888888888888,\"#fdca26\"],[1.0,\"#f0f921\"]],\"diverging\":[[0,\"#8e0152\"],[0.1,\"#c51b7d\"],[0.2,\"#de77ae\"],[0.3,\"#f1b6da\"],[0.4,\"#fde0ef\"],[0.5,\"#f7f7f7\"],[0.6,\"#e6f5d0\"],[0.7,\"#b8e186\"],[0.8,\"#7fbc41\"],[0.9,\"#4d9221\"],[1,\"#276419\"]]},\"xaxis\":{\"gridcolor\":\"white\",\"linecolor\":\"white\",\"ticks\":\"\",\"title\":{\"standoff\":15},\"zerolinecolor\":\"white\",\"automargin\":true,\"zerolinewidth\":2},\"yaxis\":{\"gridcolor\":\"white\",\"linecolor\":\"white\",\"ticks\":\"\",\"title\":{\"standoff\":15},\"zerolinecolor\":\"white\",\"automargin\":true,\"zerolinewidth\":2},\"scene\":{\"xaxis\":{\"backgroundcolor\":\"#E5ECF6\",\"gridcolor\":\"white\",\"linecolor\":\"white\",\"showbackground\":true,\"ticks\":\"\",\"zerolinecolor\":\"white\",\"gridwidth\":2},\"yaxis\":{\"backgroundcolor\":\"#E5ECF6\",\"gridcolor\":\"white\",\"linecolor\":\"white\",\"showbackground\":true,\"ticks\":\"\",\"zerolinecolor\":\"white\",\"gridwidth\":2},\"zaxis\":{\"backgroundcolor\":\"#E5ECF6\",\"gridcolor\":\"white\",\"linecolor\":\"white\",\"showbackground\":true,\"ticks\":\"\",\"zerolinecolor\":\"white\",\"gridwidth\":2}},\"shapedefaults\":{\"line\":{\"color\":\"#2a3f5f\"}},\"annotationdefaults\":{\"arrowcolor\":\"#2a3f5f\",\"arrowhead\":0,\"arrowwidth\":1},\"geo\":{\"bgcolor\":\"white\",\"landcolor\":\"#E5ECF6\",\"subunitcolor\":\"white\",\"showland\":true,\"showlakes\":true,\"lakecolor\":\"white\"},\"title\":{\"x\":0.05},\"mapbox\":{\"style\":\"light\"}}},\"xaxis\":{\"anchor\":\"y\",\"domain\":[0.0,1.0],\"title\":{\"text\":\"Category\"}},\"yaxis\":{\"anchor\":\"x\",\"domain\":[0.0,1.0],\"title\":{\"text\":\"Values\"}},\"legend\":{\"tracegroupgap\":0},\"title\":{\"text\":\"Bar Plot Example\"},\"barmode\":\"relative\"},                        {\"responsive\": true}                    ).then(function(){\n",
              "                            \n",
              "var gd = document.getElementById('043d4b87-4f5a-4fee-9c80-6f5e562d33da');\n",
              "var x = new MutationObserver(function (mutations, observer) {{\n",
              "        var display = window.getComputedStyle(gd).display;\n",
              "        if (!display || display === 'none') {{\n",
              "            console.log([gd, 'removed!']);\n",
              "            Plotly.purge(gd);\n",
              "            observer.disconnect();\n",
              "        }}\n",
              "}});\n",
              "\n",
              "// Listen for the removal of the full notebook cells\n",
              "var notebookContainer = gd.closest('#notebook-container');\n",
              "if (notebookContainer) {{\n",
              "    x.observe(notebookContainer, {childList: true});\n",
              "}}\n",
              "\n",
              "// Listen for the clearing of the current output cell\n",
              "var outputEl = gd.closest('.output');\n",
              "if (outputEl) {{\n",
              "    x.observe(outputEl, {childList: true});\n",
              "}}\n",
              "\n",
              "                        })                };                            </script>        </div>\n",
              "</body>\n",
              "</html>"
            ]
          },
          "metadata": {}
        }
      ]
    },
    {
      "cell_type": "markdown",
      "source": [
        "6.  Create a DataFrame and add a new column based on an existing column."
      ],
      "metadata": {
        "id": "jIuqznh4oVtw"
      }
    },
    {
      "cell_type": "code",
      "source": [
        "import pandas as pd\n",
        "\n",
        "# Create DataFrame\n",
        "data = {\n",
        "    'Name': ['Alice', 'Bob', 'Charlie'],\n",
        "    'Score': [85, 90, 78]\n",
        "}\n",
        "\n",
        "df = pd.DataFrame(data)\n",
        "\n",
        "# Add a new column 'Passed' based on 'Score'\n",
        "df['Passed'] = df['Score'] >= 80\n",
        "\n",
        "# Show the updated DataFrame\n",
        "print(df)"
      ],
      "metadata": {
        "colab": {
          "base_uri": "https://localhost:8080/"
        },
        "id": "k0UbjKj9okbw",
        "outputId": "c884e309-6ac1-4d0c-b475-3247fe03b598"
      },
      "execution_count": 7,
      "outputs": [
        {
          "output_type": "stream",
          "name": "stdout",
          "text": [
            "      Name  Score  Passed\n",
            "0    Alice     85    True\n",
            "1      Bob     90    True\n",
            "2  Charlie     78   False\n"
          ]
        }
      ]
    },
    {
      "cell_type": "markdown",
      "source": [
        "7. Write a program to perform element-wise multiplication of two NumPy arrays."
      ],
      "metadata": {
        "id": "hOoF13ITomEA"
      }
    },
    {
      "cell_type": "code",
      "source": [
        "import numpy as np\n",
        "\n",
        "# Create two NumPy arrays\n",
        "a = np.array([[1, 2], [3, 4]])\n",
        "b = np.array([[5, 6], [7, 8]])\n",
        "\n",
        "# Method 1: Using the * operator\n",
        "result1 = a * b\n",
        "\n",
        "# Method 2: Using numpy.multiply()\n",
        "result2 = np.multiply(a, b)\n",
        "\n",
        "# Display the results\n",
        "print(\"Result using * operator:\\n\", result1)\n",
        "print(\"Result using np.multiply():\\n\", result2)\n"
      ],
      "metadata": {
        "colab": {
          "base_uri": "https://localhost:8080/"
        },
        "id": "4U0ZYg0Cor2h",
        "outputId": "0de5378e-9023-4a6f-f7c7-bdc4a077dea7"
      },
      "execution_count": 8,
      "outputs": [
        {
          "output_type": "stream",
          "name": "stdout",
          "text": [
            "Result using * operator:\n",
            " [[ 5 12]\n",
            " [21 32]]\n",
            "Result using np.multiply():\n",
            " [[ 5 12]\n",
            " [21 32]]\n"
          ]
        }
      ]
    },
    {
      "cell_type": "markdown",
      "source": [
        "8. Create a line plot with multiple lines using Matplotlib."
      ],
      "metadata": {
        "id": "0Et9Nuuoo4BQ"
      }
    },
    {
      "cell_type": "code",
      "source": [
        "import matplotlib.pyplot as plt\n",
        "\n",
        "# Sample data\n",
        "x = [1, 2, 3, 4, 5]\n",
        "y1 = [10, 20, 25, 30, 40]\n",
        "y2 = [5, 15, 20, 25, 35]\n",
        "y3 = [2, 10, 15, 20, 30]\n",
        "\n",
        "# Create line plots\n",
        "plt.plot(x, y1, label='Line 1', color='blue', linestyle='-')\n",
        "plt.plot(x, y2, label='Line 2', color='green', linestyle='--')\n",
        "plt.plot(x, y3, label='Line 3', color='red', linestyle=':')\n",
        "\n",
        "# Add labels and title\n",
        "plt.xlabel('X Axis')\n",
        "plt.ylabel('Y Axis')\n",
        "plt.title('Multiple Line Plot')\n",
        "\n",
        "# Show legend\n",
        "plt.legend()\n",
        "\n",
        "# Display the plot\n",
        "plt.show()"
      ],
      "metadata": {
        "colab": {
          "base_uri": "https://localhost:8080/",
          "height": 472
        },
        "id": "WPTpqytGo74J",
        "outputId": "4bdb116d-2422-4660-95e0-fa81a11bc429"
      },
      "execution_count": 9,
      "outputs": [
        {
          "output_type": "display_data",
          "data": {
            "text/plain": [
              "<Figure size 640x480 with 1 Axes>"
            ],
            "image/png": "[encoded data removed]"
          },
          "metadata": {}
        }
      ]
    },
    {
      "cell_type": "markdown",
      "source": [
        "9. Generate a Pandas DataFrame and filter rows where a column value is greater than a threshold."
      ],
      "metadata": {
        "id": "Q9u3zhcwpHkA"
      }
    },
    {
      "cell_type": "code",
      "source": [
        "import pandas as pd\n",
        "\n",
        "# Create DataFrame\n",
        "data = {\n",
        "    'Name': ['Alice', 'Bob', 'Charlie', 'David'],\n",
        "    'Score': [85, 72, 90, 65]\n",
        "}\n",
        "\n",
        "df = pd.DataFrame(data)\n",
        "\n",
        "# Set the threshold\n",
        "threshold = 75\n",
        "\n",
        "# Filter rows where 'Score' is greater than the threshold\n",
        "filtered_df = df[df['Score'] > threshold]\n",
        "\n",
        "# Display the filtered DataFrame\n",
        "print(filtered_df)"
      ],
      "metadata": {
        "colab": {
          "base_uri": "https://localhost:8080/"
        },
        "id": "rzsp6dJtpK5g",
        "outputId": "e5263f42-5a4c-47eb-d06a-0533202816d1"
      },
      "execution_count": 10,
      "outputs": [
        {
          "output_type": "stream",
          "name": "stdout",
          "text": [
            "      Name  Score\n",
            "0    Alice     85\n",
            "2  Charlie     90\n"
          ]
        }
      ]
    },
    {
      "cell_type": "markdown",
      "source": [
        "10.  Create a histogram using Seaborn to visualize a distribution."
      ],
      "metadata": {
        "id": "W5XCDN9jpVYQ"
      }
    },
    {
      "cell_type": "code",
      "source": [
        "import seaborn as sns\n",
        "import matplotlib.pyplot as plt\n",
        "\n",
        "# Sample data\n",
        "data = [65, 70, 72, 68, 75, 80, 85, 90, 88, 78, 76, 74, 73, 77, 82]\n",
        "\n",
        "# Create histogram\n",
        "sns.histplot(data, bins=10, kde=True, color='skyblue')\n",
        "\n",
        "# Add title and labels\n",
        "plt.title('Distribution of Scores')\n",
        "plt.xlabel('Score')\n",
        "plt.ylabel('Frequency')\n",
        "\n",
        "# Show plot\n",
        "plt.show()"
      ],
      "metadata": {
        "colab": {
          "base_uri": "https://localhost:8080/",
          "height": 472
        },
        "id": "VOaScpQrpZqZ",
        "outputId": "8db76ca2-b94a-4e54-fc46-cfa2e51ad8a7"
      },
      "execution_count": 11,
      "outputs": [
        {
          "output_type": "display_data",
          "data": {
            "text/plain": [
              "<Figure size 640x480 with 1 Axes>"
            ],
            "image/png": "[encoded data removed]"
          },
          "metadata": {}
        }
      ]
    },
    {
      "cell_type": "markdown",
      "source": [
        "11. Perform matrix multiplication using NumPy."
      ],
      "metadata": {
        "id": "7LePCw6YrzkH"
      }
    },
    {
      "cell_type": "code",
      "source": [
        "import numpy as np\n",
        "\n",
        "# Define two matrices\n",
        "A = np.array([[1, 2],\n",
        "              [3, 4]])\n",
        "\n",
        "B = np.array([[5, 6],\n",
        "              [7, 8]])\n",
        "\n",
        "# Perform matrix multiplication\n",
        "result = np.dot(A, B)\n",
        "\n",
        "# Alternatively, you can also use the @ operator (Python 3.5+)\n",
        "# result = A @ B\n",
        "\n",
        "# Display the result\n",
        "print(\"Matrix A:\\n\", A)\n",
        "print(\"Matrix B:\\n\", B)\n",
        "print(\"Result of A x B:\\n\", result)"
      ],
      "metadata": {
        "colab": {
          "base_uri": "https://localhost:8080/"
        },
        "id": "x6518uywr4bA",
        "outputId": "154a94c2-efb3-4548-ae1e-97295cd74d0d"
      },
      "execution_count": 12,
      "outputs": [
        {
          "output_type": "stream",
          "name": "stdout",
          "text": [
            "Matrix A:\n",
            " [[1 2]\n",
            " [3 4]]\n",
            "Matrix B:\n",
            " [[5 6]\n",
            " [7 8]]\n",
            "Result of A x B:\n",
            " [[19 22]\n",
            " [43 50]]\n"
          ]
        }
      ]
    },
    {
      "cell_type": "markdown",
      "source": [
        "12. Use Pandas to load a CSV file and display its first 5 rows."
      ],
      "metadata": {
        "id": "N9C8FLq3sCzz"
      }
    },
    {
      "cell_type": "code",
      "source": [
        "import pandas as pd\n",
        "\n",
        "# Load the CSV file\n",
        "df = pd.read_csv('your_file.csv')\n",
        "\n",
        "# Display the first 5 rows\n",
        "print(df.head())\n"
      ],
      "metadata": {
        "colab": {
          "base_uri": "https://localhost:8080/",
          "height": 373
        },
        "id": "_aDapJFFtRL3",
        "outputId": "c6e5e689-6175-4b64-83ed-b57b30136234"
      },
      "execution_count": 15,
      "outputs": [
        {
          "output_type": "error",
          "ename": "FileNotFoundError",
          "evalue": "[Errno 2] No such file or directory: 'your_file.csv'",
          "traceback": [
            "\u001b[0;31m---------------------------------------------------------------------------\u001b[0m",
            "\u001b[0;31mFileNotFoundError\u001b[0m                         Traceback (most recent call last)",
            "\u001b[0;32m<ipython-input-15-75333e85fedb>\u001b[0m in \u001b[0;36m<cell line: 0>\u001b[0;34m()\u001b[0m\n\u001b[1;32m      2\u001b[0m \u001b[0;34m\u001b[0m\u001b[0m\n\u001b[1;32m      3\u001b[0m \u001b[0;31m# Load the CSV file\u001b[0m\u001b[0;34m\u001b[0m\u001b[0;34m\u001b[0m\u001b[0m\n\u001b[0;32m----> 4\u001b[0;31m \u001b[0mdf\u001b[0m \u001b[0;34m=\u001b[0m \u001b[0mpd\u001b[0m\u001b[0;34m.\u001b[0m\u001b[0mread_csv\u001b[0m\u001b[0;34m(\u001b[0m\u001b[0;34m'your_file.csv'\u001b[0m\u001b[0;34m)\u001b[0m\u001b[0;34m\u001b[0m\u001b[0;34m\u001b[0m\u001b[0m\n\u001b[0m\u001b[1;32m      5\u001b[0m \u001b[0;34m\u001b[0m\u001b[0m\n\u001b[1;32m      6\u001b[0m \u001b[0;31m# Display the first 5 rows\u001b[0m\u001b[0;34m\u001b[0m\u001b[0;34m\u001b[0m\u001b[0m\n",
            "\u001b[0;32m/usr/local/lib/python3.11/dist-packages/pandas/io/parsers/readers.py\u001b[0m in \u001b[0;36mread_csv\u001b[0;34m(filepath_or_buffer, sep, delimiter, header, names, index_col, usecols, dtype, engine, converters, true_values, false_values, skipinitialspace, skiprows, skipfooter, nrows, na_values, keep_default_na, na_filter, verbose, skip_blank_lines, parse_dates, infer_datetime_format, keep_date_col, date_parser, date_format, dayfirst, cache_dates, iterator, chunksize, compression, thousands, decimal, lineterminator, quotechar, quoting, doublequote, escapechar, comment, encoding, encoding_errors, dialect, on_bad_lines, delim_whitespace, low_memory, memory_map, float_precision, storage_options, dtype_backend)\u001b[0m\n\u001b[1;32m   1024\u001b[0m     \u001b[0mkwds\u001b[0m\u001b[0;34m.\u001b[0m\u001b[0mupdate\u001b[0m\u001b[0;34m(\u001b[0m\u001b[0mkwds_defaults\u001b[0m\u001b[0;34m)\u001b[0m\u001b[0;34m\u001b[0m\u001b[0;34m\u001b[0m\u001b[0m\n\u001b[1;32m   1025\u001b[0m \u001b[0;34m\u001b[0m\u001b[0m\n\u001b[0;32m-> 1026\u001b[0;31m     \u001b[0;32mreturn\u001b[0m \u001b[0m_read\u001b[0m\u001b[0;34m(\u001b[0m\u001b[0mfilepath_or_buffer\u001b[0m\u001b[0;34m,\u001b[0m \u001b[0mkwds\u001b[0m\u001b[0;34m)\u001b[0m\u001b[0;34m\u001b[0m\u001b[0;34m\u001b[0m\u001b[0m\n\u001b[0m\u001b[1;32m   1027\u001b[0m \u001b[0;34m\u001b[0m\u001b[0m\n\u001b[1;32m   1028\u001b[0m \u001b[0;34m\u001b[0m\u001b[0m\n",
            "\u001b[0;32m/usr/local/lib/python3.11/dist-packages/pandas/io/parsers/readers.py\u001b[0m in \u001b[0;36m_read\u001b[0;34m(filepath_or_buffer, kwds)\u001b[0m\n\u001b[1;32m    618\u001b[0m \u001b[0;34m\u001b[0m\u001b[0m\n\u001b[1;32m    619\u001b[0m     \u001b[0;31m# Create the parser.\u001b[0m\u001b[0;34m\u001b[0m\u001b[0;34m\u001b[0m\u001b[0m\n\u001b[0;32m--> 620\u001b[0;31m     \u001b[0mparser\u001b[0m \u001b[0;34m=\u001b[0m \u001b[0mTextFileReader\u001b[0m\u001b[0;34m(\u001b[0m\u001b[0mfilepath_or_buffer\u001b[0m\u001b[0;34m,\u001b[0m \u001b[0;34m**\u001b[0m\u001b[0mkwds\u001b[0m\u001b[0;34m)\u001b[0m\u001b[0;34m\u001b[0m\u001b[0;34m\u001b[0m\u001b[0m\n\u001b[0m\u001b[1;32m    621\u001b[0m \u001b[0;34m\u001b[0m\u001b[0m\n\u001b[1;32m    622\u001b[0m     \u001b[0;32mif\u001b[0m \u001b[0mchunksize\u001b[0m \u001b[0;32mor\u001b[0m \u001b[0miterator\u001b[0m\u001b[0;34m:\u001b[0m\u001b[0;34m\u001b[0m\u001b[0;34m\u001b[0m\u001b[0m\n",
            "\u001b[0;32m/usr/local/lib/python3.11/dist-packages/pandas/io/parsers/readers.py\u001b[0m in \u001b[0;36m__init__\u001b[0;34m(self, f, engine, **kwds)\u001b[0m\n\u001b[1;32m   1618\u001b[0m \u001b[0;34m\u001b[0m\u001b[0m\n\u001b[1;32m   1619\u001b[0m         \u001b[0mself\u001b[0m\u001b[0;34m.\u001b[0m\u001b[0mhandles\u001b[0m\u001b[0;34m:\u001b[0m \u001b[0mIOHandles\u001b[0m \u001b[0;34m|\u001b[0m \u001b[0;32mNone\u001b[0m \u001b[0;34m=\u001b[0m \u001b[0;32mNone\u001b[0m\u001b[0;34m\u001b[0m\u001b[0;34m\u001b[0m\u001b[0m\n\u001b[0;32m-> 1620\u001b[0;31m         \u001b[0mself\u001b[0m\u001b[0;34m.\u001b[0m\u001b[0m_engine\u001b[0m \u001b[0;34m=\u001b[0m \u001b[0mself\u001b[0m\u001b[0;34m.\u001b[0m\u001b[0m_make_engine\u001b[0m\u001b[0;34m(\u001b[0m\u001b[0mf\u001b[0m\u001b[0;34m,\u001b[0m \u001b[0mself\u001b[0m\u001b[0;34m.\u001b[0m\u001b[0mengine\u001b[0m\u001b[0;34m)\u001b[0m\u001b[0;34m\u001b[0m\u001b[0;34m\u001b[0m\u001b[0m\n\u001b[0m\u001b[1;32m   1621\u001b[0m \u001b[0;34m\u001b[0m\u001b[0m\n\u001b[1;32m   1622\u001b[0m     \u001b[0;32mdef\u001b[0m \u001b[0mclose\u001b[0m\u001b[0;34m(\u001b[0m\u001b[0mself\u001b[0m\u001b[0;34m)\u001b[0m \u001b[0;34m->\u001b[0m \u001b[0;32mNone\u001b[0m\u001b[0;34m:\u001b[0m\u001b[0;34m\u001b[0m\u001b[0;34m\u001b[0m\u001b[0m\n",
            "\u001b[0;32m/usr/local/lib/python3.11/dist-packages/pandas/io/parsers/readers.py\u001b[0m in \u001b[0;36m_make_engine\u001b[0;34m(self, f, engine)\u001b[0m\n\u001b[1;32m   1878\u001b[0m                 \u001b[0;32mif\u001b[0m \u001b[0;34m\"b\"\u001b[0m \u001b[0;32mnot\u001b[0m \u001b[0;32min\u001b[0m \u001b[0mmode\u001b[0m\u001b[0;34m:\u001b[0m\u001b[0;34m\u001b[0m\u001b[0;34m\u001b[0m\u001b[0m\n\u001b[1;32m   1879\u001b[0m                     \u001b[0mmode\u001b[0m \u001b[0;34m+=\u001b[0m \u001b[0;34m\"b\"\u001b[0m\u001b[0;34m\u001b[0m\u001b[0;34m\u001b[0m\u001b[0m\n\u001b[0;32m-> 1880\u001b[0;31m             self.handles = get_handle(\n\u001b[0m\u001b[1;32m   1881\u001b[0m                 \u001b[0mf\u001b[0m\u001b[0;34m,\u001b[0m\u001b[0;34m\u001b[0m\u001b[0;34m\u001b[0m\u001b[0m\n\u001b[1;32m   1882\u001b[0m                 \u001b[0mmode\u001b[0m\u001b[0;34m,\u001b[0m\u001b[0;34m\u001b[0m\u001b[0;34m\u001b[0m\u001b[0m\n",
            "\u001b[0;32m/usr/local/lib/python3.11/dist-packages/pandas/io/common.py\u001b[0m in \u001b[0;36mget_handle\u001b[0;34m(path_or_buf, mode, encoding, compression, memory_map, is_text, errors, storage_options)\u001b[0m\n\u001b[1;32m    871\u001b[0m         \u001b[0;32mif\u001b[0m \u001b[0mioargs\u001b[0m\u001b[0;34m.\u001b[0m\u001b[0mencoding\u001b[0m \u001b[0;32mand\u001b[0m \u001b[0;34m\"b\"\u001b[0m \u001b[0;32mnot\u001b[0m \u001b[0;32min\u001b[0m \u001b[0mioargs\u001b[0m\u001b[0;34m.\u001b[0m\u001b[0mmode\u001b[0m\u001b[0;34m:\u001b[0m\u001b[0;34m\u001b[0m\u001b[0;34m\u001b[0m\u001b[0m\n\u001b[1;32m    872\u001b[0m             \u001b[0;31m# Encoding\u001b[0m\u001b[0;34m\u001b[0m\u001b[0;34m\u001b[0m\u001b[0m\n\u001b[0;32m--> 873\u001b[0;31m             handle = open(\n\u001b[0m\u001b[1;32m    874\u001b[0m                 \u001b[0mhandle\u001b[0m\u001b[0;34m,\u001b[0m\u001b[0;34m\u001b[0m\u001b[0;34m\u001b[0m\u001b[0m\n\u001b[1;32m    875\u001b[0m                 \u001b[0mioargs\u001b[0m\u001b[0;34m.\u001b[0m\u001b[0mmode\u001b[0m\u001b[0;34m,\u001b[0m\u001b[0;34m\u001b[0m\u001b[0;34m\u001b[0m\u001b[0m\n",
            "\u001b[0;31mFileNotFoundError\u001b[0m: [Errno 2] No such file or directory: 'your_file.csv'"
          ]
        }
      ]
    },
    {
      "cell_type": "markdown",
      "source": [
        "13. Create a 3D scatter plot using Plotly."
      ],
      "metadata": {
        "id": "QYIPLMO2t29u"
      }
    },
    {
      "cell_type": "code",
      "source": [
        "import plotly.express as px\n",
        "import pandas as pd\n",
        "\n",
        "# Sample data\n",
        "data = {\n",
        "    'X': [1, 2, 3, 4, 5],\n",
        "    'Y': [10, 11, 12, 13, 14],\n",
        "    'Z': [5, 4, 3, 2, 1],\n",
        "    'Label': ['A', 'B', 'C', 'D', 'E']\n",
        "}\n",
        "\n",
        "df = pd.DataFrame(data)\n",
        "\n",
        "# Create 3D scatter plot\n",
        "fig = px.scatter_3d(df, x='X', y='Y', z='Z', text='Label',\n",
        "                    title='3D Scatter Plot Example',\n",
        "                    labels={'X': 'X Axis', 'Y': 'Y Axis', 'Z': 'Z Axis'})\n",
        "\n",
        "fig.show()\n"
      ],
      "metadata": {
        "colab": {
          "base_uri": "https://localhost:8080/",
          "height": 542
        },
        "id": "jTBkXmhSt6L4",
        "outputId": "95f74588-d125-4faa-811a-d80cb40b62ea"
      },
      "execution_count": 16,
      "outputs": [
        {
          "output_type": "display_data",
          "data": {
            "text/html": [
              "<html>\n",
              "<head><meta charset=\"utf-8\" /></head>\n",
              "<body>\n",
              "    <div>            <script src=\"https://cdnjs.cloudflare.com/ajax/libs/mathjax/2.7.5/MathJax.js?config=TeX-AMS-MML_SVG\"></script><script type=\"text/javascript\">if (window.MathJax && window.MathJax.Hub && window.MathJax.Hub.Config) {window.MathJax.Hub.Config({SVG: {font: \"STIX-Web\"}});}</script>                <script type=\"text/javascript\">window.PlotlyConfig = {MathJaxConfig: 'local'};</script>\n",
              "        <script charset=\"utf-8\" src=\"https://cdn.plot.ly/plotly-2.35.2.min.js\"></script>                <div id=\"2e81c626-b2ce-4646-829b-3be7df242f7b\" class=\"plotly-graph-div\" style=\"height:525px; width:100%;\"></div>            <script type=\"text/javascript\">                                    window.PLOTLYENV=window.PLOTLYENV || {};                                    if (document.getElementById(\"2e81c626-b2ce-4646-829b-3be7df242f7b\")) {                    Plotly.newPlot(                        \"2e81c626-b2ce-4646-829b-3be7df242f7b\",                        [{\"hovertemplate\":\"X Axis=%{x}\\u003cbr\\u003eY Axis=%{y}\\u003cbr\\u003eZ Axis=%{z}\\u003cbr\\u003eLabel=%{text}\\u003cextra\\u003e\\u003c\\u002fextra\\u003e\",\"legendgroup\":\"\",\"marker\":{\"color\":\"#636efa\",\"symbol\":\"circle\"},\"mode\":\"markers+text\",\"name\":\"\",\"scene\":\"scene\",\"showlegend\":false,\"text\":[\"A\",\"B\",\"C\",\"D\",\"E\"],\"x\":[1,2,3,4,5],\"y\":[10,11,12,13,14],\"z\":[5,4,3,2,1],\"type\":\"scatter3d\"}],                        {\"template\":{\"data\":{\"histogram2dcontour\":[{\"type\":\"histogram2dcontour\",\"colorbar\":{\"outlinewidth\":0,\"ticks\":\"\"},\"colorscale\":[[0.0,\"#0d0887\"],[0.1111111111111111,\"#46039f\"],[0.2222222222222222,\"#7201a8\"],[0.3333333333333333,\"#9c179e\"],[0.4444444444444444,\"#bd3786\"],[0.5555555555555556,\"#d8576b\"],[0.6666666666666666,\"#ed7953\"],[0.7777777777777778,\"#fb9f3a\"],[0.8888888888888888,\"#fdca26\"],[1.0,\"#f0f921\"]]}],\"choropleth\":[{\"type\":\"choropleth\",\"colorbar\":{\"outlinewidth\":0,\"ticks\":\"\"}}],\"histogram2d\":[{\"type\":\"histogram2d\",\"colorbar\":{\"outlinewidth\":0,\"ticks\":\"\"},\"colorscale\":[[0.0,\"#0d0887\"],[0.1111111111111111,\"#46039f\"],[0.2222222222222222,\"#7201a8\"],[0.3333333333333333,\"#9c179e\"],[0.4444444444444444,\"#bd3786\"],[0.5555555555555556,\"#d8576b\"],[0.6666666666666666,\"#ed7953\"],[0.7777777777777778,\"#fb9f3a\"],[0.8888888888888888,\"#fdca26\"],[1.0,\"#f0f921\"]]}],\"heatmap\":[{\"type\":\"heatmap\",\"colorbar\":{\"outlinewidth\":0,\"ticks\":\"\"},\"colorscale\":[[0.0,\"#0d0887\"],[0.1111111111111111,\"#46039f\"],[0.2222222222222222,\"#7201a8\"],[0.3333333333333333,\"#9c179e\"],[0.4444444444444444,\"#bd3786\"],[0.5555555555555556,\"#d8576b\"],[0.6666666666666666,\"#ed7953\"],[0.7777777777777778,\"#fb9f3a\"],[0.8888888888888888,\"#fdca26\"],[1.0,\"#f0f921\"]]}],\"heatmapgl\":[{\"type\":\"heatmapgl\",\"colorbar\":{\"outlinewidth\":0,\"ticks\":\"\"},\"colorscale\":[[0.0,\"#0d0887\"],[0.1111111111111111,\"#46039f\"],[0.2222222222222222,\"#7201a8\"],[0.3333333333333333,\"#9c179e\"],[0.4444444444444444,\"#bd3786\"],[0.5555555555555556,\"#d8576b\"],[0.6666666666666666,\"#ed7953\"],[0.7777777777777778,\"#fb9f3a\"],[0.8888888888888888,\"#fdca26\"],[1.0,\"#f0f921\"]]}],\"contourcarpet\":[{\"type\":\"contourcarpet\",\"colorbar\":{\"outlinewidth\":0,\"ticks\":\"\"}}],\"contour\":[{\"type\":\"contour\",\"colorbar\":{\"outlinewidth\":0,\"ticks\":\"\"},\"colorscale\":[[0.0,\"#0d0887\"],[0.1111111111111111,\"#46039f\"],[0.2222222222222222,\"#7201a8\"],[0.3333333333333333,\"#9c179e\"],[0.4444444444444444,\"#bd3786\"],[0.5555555555555556,\"#d8576b\"],[0.6666666666666666,\"#ed7953\"],[0.7777777777777778,\"#fb9f3a\"],[0.8888888888888888,\"#fdca26\"],[1.0,\"#f0f921\"]]}],\"surface\":[{\"type\":\"surface\",\"colorbar\":{\"outlinewidth\":0,\"ticks\":\"\"},\"colorscale\":[[0.0,\"#0d0887\"],[0.1111111111111111,\"#46039f\"],[0.2222222222222222,\"#7201a8\"],[0.3333333333333333,\"#9c179e\"],[0.4444444444444444,\"#bd3786\"],[0.5555555555555556,\"#d8576b\"],[0.6666666666666666,\"#ed7953\"],[0.7777777777777778,\"#fb9f3a\"],[0.8888888888888888,\"#fdca26\"],[1.0,\"#f0f921\"]]}],\"mesh3d\":[{\"type\":\"mesh3d\",\"colorbar\":{\"outlinewidth\":0,\"ticks\":\"\"}}],\"scatter\":[{\"fillpattern\":{\"fillmode\":\"overlay\",\"size\":10,\"solidity\":0.2},\"type\":\"scatter\"}],\"parcoords\":[{\"type\":\"parcoords\",\"line\":{\"colorbar\":{\"outlinewidth\":0,\"ticks\":\"\"}}}],\"scatterpolargl\":[{\"type\":\"scatterpolargl\",\"marker\":{\"colorbar\":{\"outlinewidth\":0,\"ticks\":\"\"}}}],\"bar\":[{\"error_x\":{\"color\":\"#2a3f5f\"},\"error_y\":{\"color\":\"#2a3f5f\"},\"marker\":{\"line\":{\"color\":\"#E5ECF6\",\"width\":0.5},\"pattern\":{\"fillmode\":\"overlay\",\"size\":10,\"solidity\":0.2}},\"type\":\"bar\"}],\"scattergeo\":[{\"type\":\"scattergeo\",\"marker\":{\"colorbar\":{\"outlinewidth\":0,\"ticks\":\"\"}}}],\"scatterpolar\":[{\"type\":\"scatterpolar\",\"marker\":{\"colorbar\":{\"outlinewidth\":0,\"ticks\":\"\"}}}],\"histogram\":[{\"marker\":{\"pattern\":{\"fillmode\":\"overlay\",\"size\":10,\"solidity\":0.2}},\"type\":\"histogram\"}],\"scattergl\":[{\"type\":\"scattergl\",\"marker\":{\"colorbar\":{\"outlinewidth\":0,\"ticks\":\"\"}}}],\"scatter3d\":[{\"type\":\"scatter3d\",\"line\":{\"colorbar\":{\"outlinewidth\":0,\"ticks\":\"\"}},\"marker\":{\"colorbar\":{\"outlinewidth\":0,\"ticks\":\"\"}}}],\"scattermapbox\":[{\"type\":\"scattermapbox\",\"marker\":{\"colorbar\":{\"outlinewidth\":0,\"ticks\":\"\"}}}],\"scatterternary\":[{\"type\":\"scatterternary\",\"marker\":{\"colorbar\":{\"outlinewidth\":0,\"ticks\":\"\"}}}],\"scattercarpet\":[{\"type\":\"scattercarpet\",\"marker\":{\"colorbar\":{\"outlinewidth\":0,\"ticks\":\"\"}}}],\"carpet\":[{\"aaxis\":{\"endlinecolor\":\"#2a3f5f\",\"gridcolor\":\"white\",\"linecolor\":\"white\",\"minorgridcolor\":\"white\",\"startlinecolor\":\"#2a3f5f\"},\"baxis\":{\"endlinecolor\":\"#2a3f5f\",\"gridcolor\":\"white\",\"linecolor\":\"white\",\"minorgridcolor\":\"white\",\"startlinecolor\":\"#2a3f5f\"},\"type\":\"carpet\"}],\"table\":[{\"cells\":{\"fill\":{\"color\":\"#EBF0F8\"},\"line\":{\"color\":\"white\"}},\"header\":{\"fill\":{\"color\":\"#C8D4E3\"},\"line\":{\"color\":\"white\"}},\"type\":\"table\"}],\"barpolar\":[{\"marker\":{\"line\":{\"color\":\"#E5ECF6\",\"width\":0.5},\"pattern\":{\"fillmode\":\"overlay\",\"size\":10,\"solidity\":0.2}},\"type\":\"barpolar\"}],\"pie\":[{\"automargin\":true,\"type\":\"pie\"}]},\"layout\":{\"autotypenumbers\":\"strict\",\"colorway\":[\"#636efa\",\"#EF553B\",\"#00cc96\",\"#ab63fa\",\"#FFA15A\",\"#19d3f3\",\"#FF6692\",\"#B6E880\",\"#FF97FF\",\"#FECB52\"],\"font\":{\"color\":\"#2a3f5f\"},\"hovermode\":\"closest\",\"hoverlabel\":{\"align\":\"left\"},\"paper_bgcolor\":\"white\",\"plot_bgcolor\":\"#E5ECF6\",\"polar\":{\"bgcolor\":\"#E5ECF6\",\"angularaxis\":{\"gridcolor\":\"white\",\"linecolor\":\"white\",\"ticks\":\"\"},\"radialaxis\":{\"gridcolor\":\"white\",\"linecolor\":\"white\",\"ticks\":\"\"}},\"ternary\":{\"bgcolor\":\"#E5ECF6\",\"aaxis\":{\"gridcolor\":\"white\",\"linecolor\":\"white\",\"ticks\":\"\"},\"baxis\":{\"gridcolor\":\"white\",\"linecolor\":\"white\",\"ticks\":\"\"},\"caxis\":{\"gridcolor\":\"white\",\"linecolor\":\"white\",\"ticks\":\"\"}},\"coloraxis\":{\"colorbar\":{\"outlinewidth\":0,\"ticks\":\"\"}},\"colorscale\":{\"sequential\":[[0.0,\"#0d0887\"],[0.1111111111111111,\"#46039f\"],[0.2222222222222222,\"#7201a8\"],[0.3333333333333333,\"#9c179e\"],[0.4444444444444444,\"#bd3786\"],[0.5555555555555556,\"#d8576b\"],[0.6666666666666666,\"#ed7953\"],[0.7777777777777778,\"#fb9f3a\"],[0.8888888888888888,\"#fdca26\"],[1.0,\"#f0f921\"]],\"sequentialminus\":[[0.0,\"#0d0887\"],[0.1111111111111111,\"#46039f\"],[0.2222222222222222,\"#7201a8\"],[0.3333333333333333,\"#9c179e\"],[0.4444444444444444,\"#bd3786\"],[0.5555555555555556,\"#d8576b\"],[0.6666666666666666,\"#ed7953\"],[0.7777777777777778,\"#fb9f3a\"],[0.8888888888888888,\"#fdca26\"],[1.0,\"#f0f921\"]],\"diverging\":[[0,\"#8e0152\"],[0.1,\"#c51b7d\"],[0.2,\"#de77ae\"],[0.3,\"#f1b6da\"],[0.4,\"#fde0ef\"],[0.5,\"#f7f7f7\"],[0.6,\"#e6f5d0\"],[0.7,\"#b8e186\"],[0.8,\"#7fbc41\"],[0.9,\"#4d9221\"],[1,\"#276419\"]]},\"xaxis\":{\"gridcolor\":\"white\",\"linecolor\":\"white\",\"ticks\":\"\",\"title\":{\"standoff\":15},\"zerolinecolor\":\"white\",\"automargin\":true,\"zerolinewidth\":2},\"yaxis\":{\"gridcolor\":\"white\",\"linecolor\":\"white\",\"ticks\":\"\",\"title\":{\"standoff\":15},\"zerolinecolor\":\"white\",\"automargin\":true,\"zerolinewidth\":2},\"scene\":{\"xaxis\":{\"backgroundcolor\":\"#E5ECF6\",\"gridcolor\":\"white\",\"linecolor\":\"white\",\"showbackground\":true,\"ticks\":\"\",\"zerolinecolor\":\"white\",\"gridwidth\":2},\"yaxis\":{\"backgroundcolor\":\"#E5ECF6\",\"gridcolor\":\"white\",\"linecolor\":\"white\",\"showbackground\":true,\"ticks\":\"\",\"zerolinecolor\":\"white\",\"gridwidth\":2},\"zaxis\":{\"backgroundcolor\":\"#E5ECF6\",\"gridcolor\":\"white\",\"linecolor\":\"white\",\"showbackground\":true,\"ticks\":\"\",\"zerolinecolor\":\"white\",\"gridwidth\":2}},\"shapedefaults\":{\"line\":{\"color\":\"#2a3f5f\"}},\"annotationdefaults\":{\"arrowcolor\":\"#2a3f5f\",\"arrowhead\":0,\"arrowwidth\":1},\"geo\":{\"bgcolor\":\"white\",\"landcolor\":\"#E5ECF6\",\"subunitcolor\":\"white\",\"showland\":true,\"showlakes\":true,\"lakecolor\":\"white\"},\"title\":{\"x\":0.05},\"mapbox\":{\"style\":\"light\"}}},\"scene\":{\"domain\":{\"x\":[0.0,1.0],\"y\":[0.0,1.0]},\"xaxis\":{\"title\":{\"text\":\"X Axis\"}},\"yaxis\":{\"title\":{\"text\":\"Y Axis\"}},\"zaxis\":{\"title\":{\"text\":\"Z Axis\"}}},\"legend\":{\"tracegroupgap\":0},\"title\":{\"text\":\"3D Scatter Plot Example\"}},                        {\"responsive\": true}                    ).then(function(){\n",
              "                            \n",
              "var gd = document.getElementById('2e81c626-b2ce-4646-829b-3be7df242f7b');\n",
              "var x = new MutationObserver(function (mutations, observer) {{\n",
              "        var display = window.getComputedStyle(gd).display;\n",
              "        if (!display || display === 'none') {{\n",
              "            console.log([gd, 'removed!']);\n",
              "            Plotly.purge(gd);\n",
              "            observer.disconnect();\n",
              "        }}\n",
              "}});\n",
              "\n",
              "// Listen for the removal of the full notebook cells\n",
              "var notebookContainer = gd.closest('#notebook-container');\n",
              "if (notebookContainer) {{\n",
              "    x.observe(notebookContainer, {childList: true});\n",
              "}}\n",
              "\n",
              "// Listen for the clearing of the current output cell\n",
              "var outputEl = gd.closest('.output');\n",
              "if (outputEl) {{\n",
              "    x.observe(outputEl, {childList: true});\n",
              "}}\n",
              "\n",
              "                        })                };                            </script>        </div>\n",
              "</body>\n",
              "</html>"
            ]
          },
          "metadata": {}
        }
      ]
    }
  ]
}